{
 "cells": [
  {
   "cell_type": "markdown",
   "id": "according-documentation",
   "metadata": {},
   "source": [
    "### Objective"
   ]
  },
  {
   "cell_type": "markdown",
   "id": "distinguished-buddy",
   "metadata": {},
   "source": [
    "Develop a recommendation system that recommends similar items to the item that the user choose. "
   ]
  },
  {
   "cell_type": "markdown",
   "id": "vocal-marijuana",
   "metadata": {},
   "source": [
    "### Import and Setup"
   ]
  },
  {
   "cell_type": "code",
   "execution_count": 1,
   "id": "adapted-weekly",
   "metadata": {},
   "outputs": [],
   "source": [
    "import pandas as pd\n",
    "import numpy as np\n",
    "import matplotlib.pyplot as plt\n",
    "import seaborn as sns\n",
    "%matplotlib inline"
   ]
  },
  {
   "cell_type": "markdown",
   "id": "simplified-certificate",
   "metadata": {},
   "source": [
    "### Import Data"
   ]
  },
  {
   "cell_type": "code",
   "execution_count": 2,
   "id": "proved-vintage",
   "metadata": {},
   "outputs": [],
   "source": [
    "product_data = pd.read_csv(\"../data/external/\"\n",
    "                           \"2021June-July_product_data.csv\")\n",
    "review_data = pd.read_csv(\"../data/external/\"\n",
    "                          \"2021June-July_review_data.csv\")"
   ]
  },
  {
   "cell_type": "markdown",
   "id": "right-water",
   "metadata": {},
   "source": [
    "### Eplore Data and Process Data"
   ]
  },
  {
   "cell_type": "markdown",
   "id": "lucky-awareness",
   "metadata": {},
   "source": [
    "#### Explore and Process Product Data"
   ]
  },
  {
   "cell_type": "code",
   "execution_count": 3,
   "id": "genetic-diamond",
   "metadata": {},
   "outputs": [
    {
     "data": {
      "text/plain": [
       "(1583, 33)"
      ]
     },
     "execution_count": 3,
     "metadata": {},
     "output_type": "execute_result"
    }
   ],
   "source": [
    "product_data.shape"
   ]
  },
  {
   "cell_type": "code",
   "execution_count": 4,
   "id": "frequent-charge",
   "metadata": {},
   "outputs": [
    {
     "data": {
      "text/plain": [
       "Index(['pk_product', 'date_collected', 'product_itemid', 'product_shopid',\n",
       "       'product_category', 'product_name', 'product_price',\n",
       "       'product_price_min', 'product_price_max', 'product_discount',\n",
       "       'product_brand', 'product_like_count', 'product_comment_count',\n",
       "       'product_views', 'prod_rate_star_0', 'prod_rate_star_1',\n",
       "       'prod_rate_star_2', 'prod_rate_star_3', 'prod_rate_star_4',\n",
       "       'prod_rate_star_5', 'product_total_rating', 'stock', 'units_sold',\n",
       "       'status', 'shop_location', 'shop_is_on_flash_sale',\n",
       "       'shop_is_preferred_plus_seller', 'feature_lowest_price_guarantee',\n",
       "       'feature_can_use_bundle_deal', 'feature_can_use_cod',\n",
       "       'feature_can_use_wholesale', 'feature_show_free_shipping',\n",
       "       'product_variation_count'],\n",
       "      dtype='object')"
      ]
     },
     "execution_count": 4,
     "metadata": {},
     "output_type": "execute_result"
    }
   ],
   "source": [
    "product_data.columns"
   ]
  },
  {
   "cell_type": "code",
   "execution_count": 5,
   "id": "residential-version",
   "metadata": {},
   "outputs": [
    {
     "data": {
      "text/html": [
       "<div>\n",
       "<style scoped>\n",
       "    .dataframe tbody tr th:only-of-type {\n",
       "        vertical-align: middle;\n",
       "    }\n",
       "\n",
       "    .dataframe tbody tr th {\n",
       "        vertical-align: top;\n",
       "    }\n",
       "\n",
       "    .dataframe thead th {\n",
       "        text-align: right;\n",
       "    }\n",
       "</style>\n",
       "<table border=\"1\" class=\"dataframe\">\n",
       "  <thead>\n",
       "    <tr style=\"text-align: right;\">\n",
       "      <th></th>\n",
       "      <th>pk_product</th>\n",
       "      <th>date_collected</th>\n",
       "      <th>product_itemid</th>\n",
       "      <th>product_shopid</th>\n",
       "      <th>product_category</th>\n",
       "      <th>product_name</th>\n",
       "      <th>product_price</th>\n",
       "      <th>product_price_min</th>\n",
       "      <th>product_price_max</th>\n",
       "      <th>product_discount</th>\n",
       "      <th>product_brand</th>\n",
       "      <th>product_like_count</th>\n",
       "      <th>product_comment_count</th>\n",
       "      <th>product_views</th>\n",
       "      <th>prod_rate_star_0</th>\n",
       "      <th>prod_rate_star_1</th>\n",
       "      <th>prod_rate_star_2</th>\n",
       "      <th>prod_rate_star_3</th>\n",
       "      <th>prod_rate_star_4</th>\n",
       "      <th>prod_rate_star_5</th>\n",
       "      <th>product_total_rating</th>\n",
       "      <th>stock</th>\n",
       "      <th>units_sold</th>\n",
       "      <th>status</th>\n",
       "      <th>shop_location</th>\n",
       "      <th>shop_is_on_flash_sale</th>\n",
       "      <th>shop_is_preferred_plus_seller</th>\n",
       "      <th>feature_lowest_price_guarantee</th>\n",
       "      <th>feature_can_use_bundle_deal</th>\n",
       "      <th>feature_can_use_cod</th>\n",
       "      <th>feature_can_use_wholesale</th>\n",
       "      <th>feature_show_free_shipping</th>\n",
       "      <th>product_variation_count</th>\n",
       "    </tr>\n",
       "  </thead>\n",
       "  <tbody>\n",
       "    <tr>\n",
       "      <th>203</th>\n",
       "      <td>202106131488095772</td>\n",
       "      <td>2021-06-13</td>\n",
       "      <td>1488095772</td>\n",
       "      <td>36222507</td>\n",
       "      <td>Long Sleeves</td>\n",
       "      <td>Classic Knitted V Neck Long Sleeve Formal Blou...</td>\n",
       "      <td>175.0</td>\n",
       "      <td>140</td>\n",
       "      <td>140</td>\n",
       "      <td>20</td>\n",
       "      <td>No Brand</td>\n",
       "      <td>51</td>\n",
       "      <td>30</td>\n",
       "      <td>924</td>\n",
       "      <td>29</td>\n",
       "      <td>0</td>\n",
       "      <td>0</td>\n",
       "      <td>0</td>\n",
       "      <td>1</td>\n",
       "      <td>30</td>\n",
       "      <td>4.87</td>\n",
       "      <td>796</td>\n",
       "      <td>61</td>\n",
       "      <td>1</td>\n",
       "      <td>Pasay City, Metro Manila</td>\n",
       "      <td>0</td>\n",
       "      <td>0</td>\n",
       "      <td>0</td>\n",
       "      <td>0</td>\n",
       "      <td>0</td>\n",
       "      <td>0</td>\n",
       "      <td>1</td>\n",
       "      <td>15</td>\n",
       "    </tr>\n",
       "    <tr>\n",
       "      <th>308</th>\n",
       "      <td>202106137381504968</td>\n",
       "      <td>2021-06-13</td>\n",
       "      <td>7381504968</td>\n",
       "      <td>39345649</td>\n",
       "      <td>Crop Top</td>\n",
       "      <td>Rosé adidas aesthetic slim top• korean aesthet...</td>\n",
       "      <td>NaN</td>\n",
       "      <td>68</td>\n",
       "      <td>68</td>\n",
       "      <td>0</td>\n",
       "      <td>No Brand</td>\n",
       "      <td>440</td>\n",
       "      <td>272</td>\n",
       "      <td>5977</td>\n",
       "      <td>251</td>\n",
       "      <td>14</td>\n",
       "      <td>3</td>\n",
       "      <td>1</td>\n",
       "      <td>2</td>\n",
       "      <td>271</td>\n",
       "      <td>4.89</td>\n",
       "      <td>3052</td>\n",
       "      <td>979</td>\n",
       "      <td>1</td>\n",
       "      <td>Navotas City, Metro Manila</td>\n",
       "      <td>0</td>\n",
       "      <td>0</td>\n",
       "      <td>0</td>\n",
       "      <td>0</td>\n",
       "      <td>0</td>\n",
       "      <td>0</td>\n",
       "      <td>0</td>\n",
       "      <td>7</td>\n",
       "    </tr>\n",
       "  </tbody>\n",
       "</table>\n",
       "</div>"
      ],
      "text/plain": [
       "             pk_product date_collected  product_itemid  product_shopid  \\\n",
       "203  202106131488095772     2021-06-13      1488095772        36222507   \n",
       "308  202106137381504968     2021-06-13      7381504968        39345649   \n",
       "\n",
       "    product_category                                       product_name  \\\n",
       "203     Long Sleeves  Classic Knitted V Neck Long Sleeve Formal Blou...   \n",
       "308         Crop Top  Rosé adidas aesthetic slim top• korean aesthet...   \n",
       "\n",
       "     product_price  product_price_min  product_price_max  product_discount  \\\n",
       "203          175.0                140                140                20   \n",
       "308            NaN                 68                 68                 0   \n",
       "\n",
       "    product_brand  product_like_count  product_comment_count  product_views  \\\n",
       "203      No Brand                  51                     30            924   \n",
       "308      No Brand                 440                    272           5977   \n",
       "\n",
       "     prod_rate_star_0  prod_rate_star_1  prod_rate_star_2  prod_rate_star_3  \\\n",
       "203                29                 0                 0                 0   \n",
       "308               251                14                 3                 1   \n",
       "\n",
       "     prod_rate_star_4  prod_rate_star_5  product_total_rating  stock  \\\n",
       "203                 1                30                  4.87    796   \n",
       "308                 2               271                  4.89   3052   \n",
       "\n",
       "     units_sold  status               shop_location  shop_is_on_flash_sale  \\\n",
       "203          61       1    Pasay City, Metro Manila                      0   \n",
       "308         979       1  Navotas City, Metro Manila                      0   \n",
       "\n",
       "     shop_is_preferred_plus_seller  feature_lowest_price_guarantee  \\\n",
       "203                              0                               0   \n",
       "308                              0                               0   \n",
       "\n",
       "     feature_can_use_bundle_deal  feature_can_use_cod  \\\n",
       "203                            0                    0   \n",
       "308                            0                    0   \n",
       "\n",
       "     feature_can_use_wholesale  feature_show_free_shipping  \\\n",
       "203                          0                           1   \n",
       "308                          0                           0   \n",
       "\n",
       "     product_variation_count  \n",
       "203                       15  \n",
       "308                        7  "
      ]
     },
     "metadata": {},
     "output_type": "display_data"
    }
   ],
   "source": [
    "with pd.option_context(\"display.max_columns\", None):\n",
    "    display(product_data.sample(2))"
   ]
  },
  {
   "cell_type": "code",
   "execution_count": 6,
   "id": "flying-flight",
   "metadata": {},
   "outputs": [],
   "source": [
    "kept_product_features = [\"product_itemid\", \"product_name\", \"product_category\", \"product_price\", \n",
    "                         \"product_discount\", \"product_like_count\", \"product_comment_count\", \n",
    "                         \"product_views\", \"product_total_rating\", \"units_sold\"]\n",
    "# discard rows with missing values \n",
    "kept_product_data = product_data[kept_product_features].dropna().reset_index(drop=True)"
   ]
  },
  {
   "cell_type": "code",
   "execution_count": 7,
   "id": "periodic-angel",
   "metadata": {},
   "outputs": [],
   "source": [
    "# get product dataframe based on products primary key pk_product-> product_itemid\n",
    "# limit the product data to selected fields\n",
    "features = [\"product_price\", \"product_discount\", \"product_like_count\",\n",
    "                \"product_comment_count\", \"product_views\", \"product_total_rating\", \"units_sold\"]\n",
    "agg_product_features = [\"avg_product_price\", \"avg_product_discount\", \"sum_product_like_count\",\n",
    "                \"sum_product_comment_count\", \"sum_product_views\", \"avg_product_total_rating\", \n",
    "                        \"sum_units_sold\"]\n",
    "agg_funs = [\"mean\",\"mean\",\"sum\", \"sum\", \"sum\", \"mean\", \"sum\"]\n",
    "\n",
    "aggregation_dict = dict(zip(features, agg_funs))\n",
    "columns_dict = dict(zip(features, agg_product_features))\n",
    "\n",
    "agg_product_df = kept_product_data.groupby([\"product_itemid\", \"product_category\", \"product_name\"], \n",
    "                                           as_index=False) \\\n",
    "                                  .agg(aggregation_dict) \\\n",
    "                                  .rename(columns=columns_dict)\\\n",
    "                                  .drop_duplicates([\"product_itemid\"])"
   ]
  },
  {
   "cell_type": "code",
   "execution_count": 8,
   "id": "boxed-somalia",
   "metadata": {},
   "outputs": [
    {
     "data": {
      "text/plain": [
       "array([[<AxesSubplot:title={'center':'product_itemid'}>,\n",
       "        <AxesSubplot:title={'center':'avg_product_price'}>,\n",
       "        <AxesSubplot:title={'center':'avg_product_discount'}>],\n",
       "       [<AxesSubplot:title={'center':'sum_product_like_count'}>,\n",
       "        <AxesSubplot:title={'center':'sum_product_comment_count'}>,\n",
       "        <AxesSubplot:title={'center':'sum_product_views'}>],\n",
       "       [<AxesSubplot:title={'center':'avg_product_total_rating'}>,\n",
       "        <AxesSubplot:title={'center':'sum_units_sold'}>, <AxesSubplot:>]],\n",
       "      dtype=object)"
      ]
     },
     "execution_count": 8,
     "metadata": {},
     "output_type": "execute_result"
    },
    {
     "data": {
      "image/png": "[encoded data removed]",
      "text/plain": [
       "<Figure size 432x288 with 9 Axes>"
      ]
     },
     "metadata": {
      "needs_background": "light"
     },
     "output_type": "display_data"
    }
   ],
   "source": [
    "agg_product_df.hist()"
   ]
  },
  {
   "cell_type": "code",
   "execution_count": 9,
   "id": "extended-apple",
   "metadata": {},
   "outputs": [
    {
     "data": {
      "text/plain": [
       "<AxesSubplot:>"
      ]
     },
     "execution_count": 9,
     "metadata": {},
     "output_type": "execute_result"
    },
    {
     "data": {
      "image/png": "[encoded data removed]",
      "text/plain": [
       "<Figure size 432x288 with 1 Axes>"
      ]
     },
     "metadata": {
      "needs_background": "light"
     },
     "output_type": "display_data"
    }
   ],
   "source": [
    "agg_product_df[\"product_category\"].value_counts().plot(kind=\"bar\")"
   ]
  },
  {
   "cell_type": "markdown",
   "id": "subjective-feature",
   "metadata": {},
   "source": [
    "#### Explore and Process Review Data"
   ]
  },
  {
   "cell_type": "code",
   "execution_count": 10,
   "id": "unlikely-manhattan",
   "metadata": {},
   "outputs": [
    {
     "data": {
      "text/plain": [
       "(51279, 22)"
      ]
     },
     "execution_count": 10,
     "metadata": {},
     "output_type": "execute_result"
    }
   ],
   "source": [
    "review_data.shape"
   ]
  },
  {
   "cell_type": "code",
   "execution_count": 11,
   "id": "grave-shipping",
   "metadata": {},
   "outputs": [
    {
     "data": {
      "text/plain": [
       "Index(['pk_review', 'date_collected', 'cmtid', 'itemid', 'shopid',\n",
       "       'author_username', 'comment', 'rating_star', 'no_tag',\n",
       "       'pos_good_quality', 'pos_excellent_quality', 'pos_very_accomodating',\n",
       "       'pos_well_packaged', 'pos_item_shipped_immediately',\n",
       "       'pos_will_order_again', 'neg_defective', 'neg_did_not_receive_item',\n",
       "       'neg_damaged_packaging', 'neg_will_not_order_again', 'neg_rude_seller',\n",
       "       'neg_item_shipped_late', 'neg_item_different_from_picture'],\n",
       "      dtype='object')"
      ]
     },
     "execution_count": 11,
     "metadata": {},
     "output_type": "execute_result"
    }
   ],
   "source": [
    "review_data.columns"
   ]
  },
  {
   "cell_type": "code",
   "execution_count": 12,
   "id": "amended-arbitration",
   "metadata": {},
   "outputs": [
    {
     "data": {
      "text/plain": [
       "pk_review                          51279\n",
       "date_collected                         4\n",
       "cmtid                              33564\n",
       "itemid                               950\n",
       "shopid                               367\n",
       "author_username                    21026\n",
       "comment                            20185\n",
       "rating_star                            5\n",
       "no_tag                                 2\n",
       "pos_good_quality                       1\n",
       "pos_excellent_quality                  2\n",
       "pos_very_accomodating                  2\n",
       "pos_well_packaged                      1\n",
       "pos_item_shipped_immediately           2\n",
       "pos_will_order_again                   2\n",
       "neg_defective                          1\n",
       "neg_did_not_receive_item               1\n",
       "neg_damaged_packaging                  1\n",
       "neg_will_not_order_again               1\n",
       "neg_rude_seller                        2\n",
       "neg_item_shipped_late                  2\n",
       "neg_item_different_from_picture        1\n",
       "dtype: int64"
      ]
     },
     "execution_count": 12,
     "metadata": {},
     "output_type": "execute_result"
    }
   ],
   "source": [
    "review_data.nunique()"
   ]
  },
  {
   "cell_type": "code",
   "execution_count": 13,
   "id": "developing-tours",
   "metadata": {},
   "outputs": [
    {
     "data": {
      "text/html": [
       "<div>\n",
       "<style scoped>\n",
       "    .dataframe tbody tr th:only-of-type {\n",
       "        vertical-align: middle;\n",
       "    }\n",
       "\n",
       "    .dataframe tbody tr th {\n",
       "        vertical-align: top;\n",
       "    }\n",
       "\n",
       "    .dataframe thead th {\n",
       "        text-align: right;\n",
       "    }\n",
       "</style>\n",
       "<table border=\"1\" class=\"dataframe\">\n",
       "  <thead>\n",
       "    <tr style=\"text-align: right;\">\n",
       "      <th></th>\n",
       "      <th>pk_review</th>\n",
       "      <th>date_collected</th>\n",
       "      <th>cmtid</th>\n",
       "      <th>itemid</th>\n",
       "      <th>shopid</th>\n",
       "      <th>author_username</th>\n",
       "      <th>comment</th>\n",
       "      <th>rating_star</th>\n",
       "      <th>no_tag</th>\n",
       "      <th>pos_good_quality</th>\n",
       "      <th>pos_excellent_quality</th>\n",
       "      <th>pos_very_accomodating</th>\n",
       "      <th>pos_well_packaged</th>\n",
       "      <th>pos_item_shipped_immediately</th>\n",
       "      <th>pos_will_order_again</th>\n",
       "      <th>neg_defective</th>\n",
       "      <th>neg_did_not_receive_item</th>\n",
       "      <th>neg_damaged_packaging</th>\n",
       "      <th>neg_will_not_order_again</th>\n",
       "      <th>neg_rude_seller</th>\n",
       "      <th>neg_item_shipped_late</th>\n",
       "      <th>neg_item_different_from_picture</th>\n",
       "    </tr>\n",
       "  </thead>\n",
       "  <tbody>\n",
       "    <tr>\n",
       "      <th>11220</th>\n",
       "      <td>202106134584386770</td>\n",
       "      <td>2021-06-13</td>\n",
       "      <td>4584386770</td>\n",
       "      <td>4942096740</td>\n",
       "      <td>258468274</td>\n",
       "      <td>jloveonline</td>\n",
       "      <td>NaN</td>\n",
       "      <td>5</td>\n",
       "      <td>1</td>\n",
       "      <td>0</td>\n",
       "      <td>0</td>\n",
       "      <td>0</td>\n",
       "      <td>0</td>\n",
       "      <td>0</td>\n",
       "      <td>0</td>\n",
       "      <td>0</td>\n",
       "      <td>0</td>\n",
       "      <td>0</td>\n",
       "      <td>0</td>\n",
       "      <td>0</td>\n",
       "      <td>0</td>\n",
       "      <td>0</td>\n",
       "    </tr>\n",
       "    <tr>\n",
       "      <th>14273</th>\n",
       "      <td>202106215105497823</td>\n",
       "      <td>2021-06-21</td>\n",
       "      <td>5105497823</td>\n",
       "      <td>4840459112</td>\n",
       "      <td>55748694</td>\n",
       "      <td>b*****s</td>\n",
       "      <td>Sakto ang quality sa price. Trendy ang designs...</td>\n",
       "      <td>5</td>\n",
       "      <td>1</td>\n",
       "      <td>0</td>\n",
       "      <td>0</td>\n",
       "      <td>0</td>\n",
       "      <td>0</td>\n",
       "      <td>0</td>\n",
       "      <td>0</td>\n",
       "      <td>0</td>\n",
       "      <td>0</td>\n",
       "      <td>0</td>\n",
       "      <td>0</td>\n",
       "      <td>0</td>\n",
       "      <td>0</td>\n",
       "      <td>0</td>\n",
       "    </tr>\n",
       "  </tbody>\n",
       "</table>\n",
       "</div>"
      ],
      "text/plain": [
       "                pk_review date_collected       cmtid      itemid     shopid  \\\n",
       "11220  202106134584386770     2021-06-13  4584386770  4942096740  258468274   \n",
       "14273  202106215105497823     2021-06-21  5105497823  4840459112   55748694   \n",
       "\n",
       "      author_username                                            comment  \\\n",
       "11220     jloveonline                                                NaN   \n",
       "14273         b*****s  Sakto ang quality sa price. Trendy ang designs...   \n",
       "\n",
       "       rating_star  no_tag  pos_good_quality  pos_excellent_quality  \\\n",
       "11220            5       1                 0                      0   \n",
       "14273            5       1                 0                      0   \n",
       "\n",
       "       pos_very_accomodating  pos_well_packaged  pos_item_shipped_immediately  \\\n",
       "11220                      0                  0                             0   \n",
       "14273                      0                  0                             0   \n",
       "\n",
       "       pos_will_order_again  neg_defective  neg_did_not_receive_item  \\\n",
       "11220                     0              0                         0   \n",
       "14273                     0              0                         0   \n",
       "\n",
       "       neg_damaged_packaging  neg_will_not_order_again  neg_rude_seller  \\\n",
       "11220                      0                         0                0   \n",
       "14273                      0                         0                0   \n",
       "\n",
       "       neg_item_shipped_late  neg_item_different_from_picture  \n",
       "11220                      0                                0  \n",
       "14273                      0                                0  "
      ]
     },
     "metadata": {},
     "output_type": "display_data"
    }
   ],
   "source": [
    "with pd.option_context(\"display.max_columns\", None):\n",
    "    display(review_data.sample(2))"
   ]
  },
  {
   "cell_type": "code",
   "execution_count": 14,
   "id": "authentic-astronomy",
   "metadata": {},
   "outputs": [],
   "source": [
    "# limit review data to selected fields\n",
    "kept_review_data = review_data[[\"cmtid\", \"itemid\", \"rating_star\"]].dropna().reset_index()"
   ]
  },
  {
   "cell_type": "code",
   "execution_count": 15,
   "id": "ahead-johnson",
   "metadata": {},
   "outputs": [],
   "source": [
    "# only keep reviews with existing products\n",
    "kept_review_data = review_data[review_data[\"itemid\"] \\\n",
    "                               .isin(agg_product_df[\"product_itemid\"])]"
   ]
  },
  {
   "cell_type": "code",
   "execution_count": 16,
   "id": "atomic-alloy",
   "metadata": {},
   "outputs": [
    {
     "name": "stdout",
     "output_type": "stream",
     "text": [
      "Number of ratings: 45932\n",
      "Number of unique itemid's: 826\n",
      "Number of unique users: 29782\n",
      "Average ratings per user: 1.54\n",
      "Average ratings per movie: 55.61\n"
     ]
    }
   ],
   "source": [
    "# review data summary\n",
    "n_ratings = len(kept_review_data)\n",
    "n_movies = len(kept_review_data[\"itemid\"].unique())\n",
    "n_users = len(kept_review_data[\"cmtid\"].unique())\n",
    "\n",
    "print(f\"Number of ratings: {n_ratings}\")\n",
    "print(f\"Number of unique itemid's: {n_movies}\")\n",
    "print(f\"Number of unique users: {n_users}\")\n",
    "print(f\"Average ratings per user: {round(n_ratings/n_users, 2)}\")\n",
    "print(f\"Average ratings per movie: {round(n_ratings/n_movies, 2)}\")"
   ]
  },
  {
   "cell_type": "code",
   "execution_count": 17,
   "id": "frequent-symphony",
   "metadata": {},
   "outputs": [],
   "source": [
    "# Calculate mean ratings for each item\n",
    "mean_rating = kept_review_data.groupby(\"itemid\")[[\"rating_star\"]].mean()"
   ]
  },
  {
   "cell_type": "code",
   "execution_count": 18,
   "id": "perceived-middle",
   "metadata": {},
   "outputs": [
    {
     "data": {
      "text/html": [
       "<div>\n",
       "<style scoped>\n",
       "    .dataframe tbody tr th:only-of-type {\n",
       "        vertical-align: middle;\n",
       "    }\n",
       "\n",
       "    .dataframe tbody tr th {\n",
       "        vertical-align: top;\n",
       "    }\n",
       "\n",
       "    .dataframe thead th {\n",
       "        text-align: right;\n",
       "    }\n",
       "</style>\n",
       "<table border=\"1\" class=\"dataframe\">\n",
       "  <thead>\n",
       "    <tr style=\"text-align: right;\">\n",
       "      <th></th>\n",
       "      <th>product_itemid</th>\n",
       "      <th>product_category</th>\n",
       "      <th>product_name</th>\n",
       "      <th>avg_product_price</th>\n",
       "      <th>avg_product_discount</th>\n",
       "      <th>sum_product_like_count</th>\n",
       "      <th>sum_product_comment_count</th>\n",
       "      <th>sum_product_views</th>\n",
       "      <th>avg_product_total_rating</th>\n",
       "      <th>sum_units_sold</th>\n",
       "    </tr>\n",
       "  </thead>\n",
       "  <tbody>\n",
       "    <tr>\n",
       "      <th>485</th>\n",
       "      <td>6887799434</td>\n",
       "      <td>Short Sleeves</td>\n",
       "      <td>Korean style V-neck chic single-breasted waist...</td>\n",
       "      <td>544.0</td>\n",
       "      <td>35.0</td>\n",
       "      <td>116</td>\n",
       "      <td>2</td>\n",
       "      <td>1209</td>\n",
       "      <td>1.0</td>\n",
       "      <td>6</td>\n",
       "    </tr>\n",
       "  </tbody>\n",
       "</table>\n",
       "</div>"
      ],
      "text/plain": [
       "     product_itemid product_category  \\\n",
       "485      6887799434    Short Sleeves   \n",
       "\n",
       "                                          product_name  avg_product_price  \\\n",
       "485  Korean style V-neck chic single-breasted waist...              544.0   \n",
       "\n",
       "     avg_product_discount  sum_product_like_count  sum_product_comment_count  \\\n",
       "485                  35.0                     116                          2   \n",
       "\n",
       "     sum_product_views  avg_product_total_rating  sum_units_sold  \n",
       "485               1209                       1.0               6  "
      ]
     },
     "execution_count": 18,
     "metadata": {},
     "output_type": "execute_result"
    }
   ],
   "source": [
    "# Lowest rated products\n",
    "lowest_rated = mean_rating[\"rating_star\"].idxmin()\n",
    "agg_product_df.loc[agg_product_df[\"product_itemid\"] == lowest_rated]"
   ]
  },
  {
   "cell_type": "code",
   "execution_count": 19,
   "id": "secondary-straight",
   "metadata": {},
   "outputs": [
    {
     "data": {
      "text/html": [
       "<div>\n",
       "<style scoped>\n",
       "    .dataframe tbody tr th:only-of-type {\n",
       "        vertical-align: middle;\n",
       "    }\n",
       "\n",
       "    .dataframe tbody tr th {\n",
       "        vertical-align: top;\n",
       "    }\n",
       "\n",
       "    .dataframe thead th {\n",
       "        text-align: right;\n",
       "    }\n",
       "</style>\n",
       "<table border=\"1\" class=\"dataframe\">\n",
       "  <thead>\n",
       "    <tr style=\"text-align: right;\">\n",
       "      <th></th>\n",
       "      <th>product_itemid</th>\n",
       "      <th>product_category</th>\n",
       "      <th>product_name</th>\n",
       "      <th>avg_product_price</th>\n",
       "      <th>avg_product_discount</th>\n",
       "      <th>sum_product_like_count</th>\n",
       "      <th>sum_product_comment_count</th>\n",
       "      <th>sum_product_views</th>\n",
       "      <th>avg_product_total_rating</th>\n",
       "      <th>sum_units_sold</th>\n",
       "    </tr>\n",
       "  </thead>\n",
       "  <tbody>\n",
       "    <tr>\n",
       "      <th>2</th>\n",
       "      <td>706814827</td>\n",
       "      <td>Long Sleeves</td>\n",
       "      <td>Korean Women Long Sleeved Shirt Stretch Base B...</td>\n",
       "      <td>230.0</td>\n",
       "      <td>20.0</td>\n",
       "      <td>2457</td>\n",
       "      <td>678</td>\n",
       "      <td>61</td>\n",
       "      <td>4.58</td>\n",
       "      <td>2131</td>\n",
       "    </tr>\n",
       "  </tbody>\n",
       "</table>\n",
       "</div>"
      ],
      "text/plain": [
       "   product_itemid product_category  \\\n",
       "2       706814827     Long Sleeves   \n",
       "\n",
       "                                        product_name  avg_product_price  \\\n",
       "2  Korean Women Long Sleeved Shirt Stretch Base B...              230.0   \n",
       "\n",
       "   avg_product_discount  sum_product_like_count  sum_product_comment_count  \\\n",
       "2                  20.0                    2457                        678   \n",
       "\n",
       "   sum_product_views  avg_product_total_rating  sum_units_sold  \n",
       "2                 61                      4.58            2131  "
      ]
     },
     "execution_count": 19,
     "metadata": {},
     "output_type": "execute_result"
    }
   ],
   "source": [
    "# Highest rated movies\n",
    "highest_rated = mean_rating[\"rating_star\"].idxmax()\n",
    "agg_product_df.loc[agg_product_df[\"product_itemid\"] == highest_rated]"
   ]
  },
  {
   "cell_type": "markdown",
   "id": "interstate-indication",
   "metadata": {},
   "source": [
    "### Fit Model"
   ]
  },
  {
   "cell_type": "code",
   "execution_count": 20,
   "id": "suitable-basin",
   "metadata": {},
   "outputs": [],
   "source": [
    "from scipy.sparse import csr_matrix\n",
    "pt = kept_review_data.pivot_table(index=\"itemid\",columns=\"cmtid\", \n",
    "                                  values=\"rating_star\", fill_value=0)\n",
    "X = csr_matrix(pt)"
   ]
  },
  {
   "cell_type": "code",
   "execution_count": 21,
   "id": "central-compression",
   "metadata": {},
   "outputs": [
    {
     "data": {
      "text/plain": [
       "NearestNeighbors(algorithm='brute', metric='cosine', n_neighbors=8)"
      ]
     },
     "execution_count": 21,
     "metadata": {},
     "output_type": "execute_result"
    }
   ],
   "source": [
    "# Fit model\n",
    "k=8\n",
    "from sklearn.neighbors import NearestNeighbors\n",
    "model = NearestNeighbors(n_neighbors=k, algorithm=\"brute\", metric=\"cosine\")\n",
    "model.fit(X)"
   ]
  },
  {
   "cell_type": "code",
   "execution_count": 22,
   "id": "private-adapter",
   "metadata": {},
   "outputs": [],
   "source": [
    "neighbors = model.kneighbors(X, return_distance=False)\n",
    "columns = [\"input_itemid\", \"rank\", \"recommend_itemid\", \"recommend_category\",\n",
    "          \"recommend_name\", \"recommend_avg_price\", \"recommend_avg_discount\",\n",
    "          \"recommend_like_count\", \"recommend_comment_count\", \"recommend_product_views\",\n",
    "          \"recommend_avg_rating\", \"recommend_avg_rating\"]\n",
    "recommendations = pd.DataFrame(columns=columns)\n",
    "\n",
    "unique_items = np.unique(agg_product_df[\"product_itemid\"])\n",
    "item_inv_mapper = dict(zip(list(range(len(unique_items))), unique_items))"
   ]
  },
  {
   "cell_type": "code",
   "execution_count": 23,
   "id": "agreed-myanmar",
   "metadata": {},
   "outputs": [
    {
     "data": {
      "text/html": [
       "<div>\n",
       "<style scoped>\n",
       "    .dataframe tbody tr th:only-of-type {\n",
       "        vertical-align: middle;\n",
       "    }\n",
       "\n",
       "    .dataframe tbody tr th {\n",
       "        vertical-align: top;\n",
       "    }\n",
       "\n",
       "    .dataframe thead th {\n",
       "        text-align: right;\n",
       "    }\n",
       "</style>\n",
       "<table border=\"1\" class=\"dataframe\">\n",
       "  <thead>\n",
       "    <tr style=\"text-align: right;\">\n",
       "      <th></th>\n",
       "      <th>input_itemid</th>\n",
       "      <th>rank</th>\n",
       "      <th>recommend_itemid</th>\n",
       "      <th>recommend_category</th>\n",
       "      <th>recommend_name</th>\n",
       "      <th>recommend_avg_price</th>\n",
       "      <th>recommend_avg_discount</th>\n",
       "      <th>recommend_like_count</th>\n",
       "      <th>recommend_comment_count</th>\n",
       "      <th>recommend_product_views</th>\n",
       "      <th>recommend_avg_rating</th>\n",
       "      <th>recommend_avg_rating</th>\n",
       "    </tr>\n",
       "  </thead>\n",
       "  <tbody>\n",
       "    <tr>\n",
       "      <th>1</th>\n",
       "      <td>674045966</td>\n",
       "      <td>1</td>\n",
       "      <td>7589366746</td>\n",
       "      <td>Short Sleeves</td>\n",
       "      <td>korean fashion knitted Round neck blouse top s...</td>\n",
       "      <td>300.0</td>\n",
       "      <td>18.0</td>\n",
       "      <td>23</td>\n",
       "      <td>11</td>\n",
       "      <td>1452</td>\n",
       "      <td>5.00</td>\n",
       "      <td>112</td>\n",
       "    </tr>\n",
       "    <tr>\n",
       "      <th>2</th>\n",
       "      <td>674045966</td>\n",
       "      <td>2</td>\n",
       "      <td>7658961697</td>\n",
       "      <td>Short Sleeves</td>\n",
       "      <td>korean fashion knitted blouse knitted top shor...</td>\n",
       "      <td>300.0</td>\n",
       "      <td>67.0</td>\n",
       "      <td>80</td>\n",
       "      <td>160</td>\n",
       "      <td>1060</td>\n",
       "      <td>4.93</td>\n",
       "      <td>419</td>\n",
       "    </tr>\n",
       "    <tr>\n",
       "      <th>3</th>\n",
       "      <td>674045966</td>\n",
       "      <td>3</td>\n",
       "      <td>7641709091</td>\n",
       "      <td>Short Sleeves</td>\n",
       "      <td>korean fashion knitted blouse MICKEY top short...</td>\n",
       "      <td>199.0</td>\n",
       "      <td>67.0</td>\n",
       "      <td>101</td>\n",
       "      <td>35</td>\n",
       "      <td>340</td>\n",
       "      <td>4.83</td>\n",
       "      <td>76</td>\n",
       "    </tr>\n",
       "    <tr>\n",
       "      <th>4</th>\n",
       "      <td>674045966</td>\n",
       "      <td>4</td>\n",
       "      <td>7635156435</td>\n",
       "      <td>Long Sleeves</td>\n",
       "      <td>COD &amp; Ready stock Korean Top Fashion Square Co...</td>\n",
       "      <td>515.0</td>\n",
       "      <td>56.0</td>\n",
       "      <td>456</td>\n",
       "      <td>259</td>\n",
       "      <td>878</td>\n",
       "      <td>4.88</td>\n",
       "      <td>671</td>\n",
       "    </tr>\n",
       "    <tr>\n",
       "      <th>5</th>\n",
       "      <td>674045966</td>\n",
       "      <td>5</td>\n",
       "      <td>7563770506</td>\n",
       "      <td>Long Sleeves</td>\n",
       "      <td>Chiffon Korean-Style off-Shoulder Long Sleeve ...</td>\n",
       "      <td>480.0</td>\n",
       "      <td>41.0</td>\n",
       "      <td>4636</td>\n",
       "      <td>635</td>\n",
       "      <td>20093</td>\n",
       "      <td>4.93</td>\n",
       "      <td>1318</td>\n",
       "    </tr>\n",
       "    <tr>\n",
       "      <th>...</th>\n",
       "      <td>...</td>\n",
       "      <td>...</td>\n",
       "      <td>...</td>\n",
       "      <td>...</td>\n",
       "      <td>...</td>\n",
       "      <td>...</td>\n",
       "      <td>...</td>\n",
       "      <td>...</td>\n",
       "      <td>...</td>\n",
       "      <td>...</td>\n",
       "      <td>...</td>\n",
       "      <td>...</td>\n",
       "    </tr>\n",
       "    <tr>\n",
       "      <th>6603</th>\n",
       "      <td>9809157319</td>\n",
       "      <td>3</td>\n",
       "      <td>7641709091</td>\n",
       "      <td>Short Sleeves</td>\n",
       "      <td>korean fashion knitted blouse MICKEY top short...</td>\n",
       "      <td>199.0</td>\n",
       "      <td>67.0</td>\n",
       "      <td>101</td>\n",
       "      <td>35</td>\n",
       "      <td>340</td>\n",
       "      <td>4.83</td>\n",
       "      <td>76</td>\n",
       "    </tr>\n",
       "    <tr>\n",
       "      <th>6604</th>\n",
       "      <td>9809157319</td>\n",
       "      <td>4</td>\n",
       "      <td>7635156435</td>\n",
       "      <td>Long Sleeves</td>\n",
       "      <td>COD &amp; Ready stock Korean Top Fashion Square Co...</td>\n",
       "      <td>515.0</td>\n",
       "      <td>56.0</td>\n",
       "      <td>456</td>\n",
       "      <td>259</td>\n",
       "      <td>878</td>\n",
       "      <td>4.88</td>\n",
       "      <td>671</td>\n",
       "    </tr>\n",
       "    <tr>\n",
       "      <th>6605</th>\n",
       "      <td>9809157319</td>\n",
       "      <td>5</td>\n",
       "      <td>7563770506</td>\n",
       "      <td>Long Sleeves</td>\n",
       "      <td>Chiffon Korean-Style off-Shoulder Long Sleeve ...</td>\n",
       "      <td>480.0</td>\n",
       "      <td>41.0</td>\n",
       "      <td>4636</td>\n",
       "      <td>635</td>\n",
       "      <td>20093</td>\n",
       "      <td>4.93</td>\n",
       "      <td>1318</td>\n",
       "    </tr>\n",
       "    <tr>\n",
       "      <th>6606</th>\n",
       "      <td>9809157319</td>\n",
       "      <td>6</td>\n",
       "      <td>7582713454</td>\n",
       "      <td>Long Sleeves</td>\n",
       "      <td>Kathryn Korean Trend Long Sleeve Croptop 11176#</td>\n",
       "      <td>299.0</td>\n",
       "      <td>77.0</td>\n",
       "      <td>11031</td>\n",
       "      <td>1338</td>\n",
       "      <td>120161</td>\n",
       "      <td>4.83</td>\n",
       "      <td>3478</td>\n",
       "    </tr>\n",
       "    <tr>\n",
       "      <th>6607</th>\n",
       "      <td>9809157319</td>\n",
       "      <td>7</td>\n",
       "      <td>7541829678</td>\n",
       "      <td>Long Sleeves</td>\n",
       "      <td>xiaozhainv Korean Casual knitted cardigan long...</td>\n",
       "      <td>366.0</td>\n",
       "      <td>31.0</td>\n",
       "      <td>21818</td>\n",
       "      <td>2060</td>\n",
       "      <td>33124</td>\n",
       "      <td>4.89</td>\n",
       "      <td>4017</td>\n",
       "    </tr>\n",
       "  </tbody>\n",
       "</table>\n",
       "<p>5782 rows × 12 columns</p>\n",
       "</div>"
      ],
      "text/plain": [
       "     input_itemid rank recommend_itemid recommend_category  \\\n",
       "1       674045966    1       7589366746      Short Sleeves   \n",
       "2       674045966    2       7658961697      Short Sleeves   \n",
       "3       674045966    3       7641709091      Short Sleeves   \n",
       "4       674045966    4       7635156435       Long Sleeves   \n",
       "5       674045966    5       7563770506       Long Sleeves   \n",
       "...           ...  ...              ...                ...   \n",
       "6603   9809157319    3       7641709091      Short Sleeves   \n",
       "6604   9809157319    4       7635156435       Long Sleeves   \n",
       "6605   9809157319    5       7563770506       Long Sleeves   \n",
       "6606   9809157319    6       7582713454       Long Sleeves   \n",
       "6607   9809157319    7       7541829678       Long Sleeves   \n",
       "\n",
       "                                         recommend_name  recommend_avg_price  \\\n",
       "1     korean fashion knitted Round neck blouse top s...                300.0   \n",
       "2     korean fashion knitted blouse knitted top shor...                300.0   \n",
       "3     korean fashion knitted blouse MICKEY top short...                199.0   \n",
       "4     COD & Ready stock Korean Top Fashion Square Co...                515.0   \n",
       "5     Chiffon Korean-Style off-Shoulder Long Sleeve ...                480.0   \n",
       "...                                                 ...                  ...   \n",
       "6603  korean fashion knitted blouse MICKEY top short...                199.0   \n",
       "6604  COD & Ready stock Korean Top Fashion Square Co...                515.0   \n",
       "6605  Chiffon Korean-Style off-Shoulder Long Sleeve ...                480.0   \n",
       "6606    Kathryn Korean Trend Long Sleeve Croptop 11176#                299.0   \n",
       "6607  xiaozhainv Korean Casual knitted cardigan long...                366.0   \n",
       "\n",
       "      recommend_avg_discount recommend_like_count recommend_comment_count  \\\n",
       "1                       18.0                   23                      11   \n",
       "2                       67.0                   80                     160   \n",
       "3                       67.0                  101                      35   \n",
       "4                       56.0                  456                     259   \n",
       "5                       41.0                 4636                     635   \n",
       "...                      ...                  ...                     ...   \n",
       "6603                    67.0                  101                      35   \n",
       "6604                    56.0                  456                     259   \n",
       "6605                    41.0                 4636                     635   \n",
       "6606                    77.0                11031                    1338   \n",
       "6607                    31.0                21818                    2060   \n",
       "\n",
       "     recommend_product_views recommend_avg_rating recommend_avg_rating  \n",
       "1                       1452                 5.00                  112  \n",
       "2                       1060                 4.93                  419  \n",
       "3                        340                 4.83                   76  \n",
       "4                        878                 4.88                  671  \n",
       "5                      20093                 4.93                 1318  \n",
       "...                      ...                  ...                  ...  \n",
       "6603                     340                 4.83                   76  \n",
       "6604                     878                 4.88                  671  \n",
       "6605                   20093                 4.93                 1318  \n",
       "6606                  120161                 4.83                 3478  \n",
       "6607                   33124                 4.89                 4017  \n",
       "\n",
       "[5782 rows x 12 columns]"
      ]
     },
     "execution_count": 23,
     "metadata": {},
     "output_type": "execute_result"
    }
   ],
   "source": [
    "for i in range(len(neighbors)):\n",
    "    for j in range(1, k):\n",
    "        n = neighbors[i].item(j)\n",
    "        itemid = item_inv_mapper[i]\n",
    "        recommend_itemid = item_inv_mapper[n]\n",
    "        product_info = agg_product_df.loc[agg_product_df[\"product_itemid\"] == recommend_itemid] \\\n",
    "        .values.tolist()[0]\n",
    "        recommendations.loc[j+k*i] = [itemid, j] + product_info\n",
    "\n",
    "recommendations"
   ]
  },
  {
   "cell_type": "code",
   "execution_count": 24,
   "id": "instructional-modern",
   "metadata": {},
   "outputs": [],
   "source": [
    "recommendations = recommendations.reset_index(drop=True)"
   ]
  },
  {
   "cell_type": "code",
   "execution_count": 36,
   "id": "color-premiere",
   "metadata": {},
   "outputs": [
    {
     "data": {
      "text/plain": [
       "<AxesSubplot:>"
      ]
     },
     "execution_count": 36,
     "metadata": {},
     "output_type": "execute_result"
    },
    {
     "data": {
      "image/png": "[encoded data removed]",
      "text/plain": [
       "<Figure size 432x288 with 1 Axes>"
      ]
     },
     "metadata": {
      "needs_background": "light"
     },
     "output_type": "display_data"
    }
   ],
   "source": [
    "recommendations[\"recommend_itemid\"].value_counts().head(5).plot(kind=\"bar\", color=\"#3EA99F\")"
   ]
  },
  {
   "cell_type": "code",
   "execution_count": null,
   "id": "several-catholic",
   "metadata": {},
   "outputs": [],
   "source": []
  }
 ],
 "metadata": {
  "kernelspec": {
   "display_name": "Python 3",
   "language": "python",
   "name": "python3"
  },
  "language_info": {
   "codemirror_mode": {
    "name": "ipython",
    "version": 3
   },
   "file_extension": ".py",
   "mimetype": "text/x-python",
   "name": "python",
   "nbconvert_exporter": "python",
   "pygments_lexer": "ipython3",
   "version": "3.7.3"
  }
 },
 "nbformat": 4,
 "nbformat_minor": 5
}
